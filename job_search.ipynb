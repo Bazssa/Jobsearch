{
 "cells": [
  {
   "cell_type": "markdown",
   "id": "609fab55",
   "metadata": {},
   "source": [
    "# initialize"
   ]
  },
  {
   "cell_type": "code",
   "execution_count": 1,
   "id": "e516c5ee",
   "metadata": {},
   "outputs": [],
   "source": [
    "from bs4 import BeautifulSoup\n",
    "import requests\n",
    "import pandas as pd\n",
    "from datetime import datetime\n",
    "import shutil\n",
    "import re"
   ]
  },
  {
   "cell_type": "code",
   "execution_count": 2,
   "id": "13bd4a19",
   "metadata": {},
   "outputs": [],
   "source": [
    "# Jobsites:\n",
    "# data-jobs.ch    integrated\n",
    "# jobs.ch         integrated\n",
    "# ostjob.ch       integrated\n",
    "# glassdoor       not integrated\n",
    "# jobagent.ch     not integrated\n",
    "# jobscout24      not integrated"
   ]
  },
  {
   "cell_type": "code",
   "execution_count": 3,
   "id": "47db9a0d",
   "metadata": {},
   "outputs": [],
   "source": [
    "search_terms = ['data%20scientist', 'data%20analyst', 'BI', 'business%20intelligence']\n",
    "job_list = []"
   ]
  },
  {
   "cell_type": "markdown",
   "id": "2a9a0142",
   "metadata": {},
   "source": [
    "# data-jobs.ch\n",
    "### no search therms used -> all jobs are loaded"
   ]
  },
  {
   "cell_type": "code",
   "execution_count": 4,
   "id": "1fe86920",
   "metadata": {},
   "outputs": [
    {
     "name": "stdout",
     "output_type": "stream",
     "text": [
      "Anzahl gefundene Jobs (Total): 329\n"
     ]
    }
   ],
   "source": [
    "continue_reading = 1\n",
    "page_number = 1\n",
    "\n",
    "while continue_reading == 1:\n",
    "    url = f\"https://data-jobs.ch/search?page={page_number}#results\"\n",
    "    response = requests.get(url)\n",
    "    soup = BeautifulSoup(response.content, \"html.parser\")\n",
    "\n",
    "    jobs = soup.find_all(name=\"li\", class_=\"item\")\n",
    "\n",
    "    for job in jobs:\n",
    "        try:\n",
    "            if 'banner' not in job['class']:\n",
    "                job_dict = {}\n",
    "                # job_id = job['data-gtm-jid']\n",
    "                # job_dict['job_id'] = job_id if job_id else \"N/A\"\n",
    "                job_name = job.find(name=\"span\", class_=\"jobtitle\")\n",
    "                job_dict['job_name'] = job_name.text.strip() if job_name else \"N/A\"\n",
    "                job_company = job.find(name=\"span\", class_=\"company\")\n",
    "                job_dict['job_company'] = job_company.text.strip() if job_company else \"N/A\"\n",
    "                \n",
    "                job_location = job.find(name=\"span\", class_=\"location\")\n",
    "                job_location = job_location.text.strip() if job_location else \"N/A\"\n",
    "                job_location = re.sub(r'^CH-', '', job_location)\n",
    "                job_location = re.sub(r'^\\d{4}', '', job_location)\n",
    "                job_dict['job_location'] = job_location.strip()\n",
    "                \n",
    "                job_dict['job_percentage'] = \"N/A\"\n",
    "                job_link = job.find(name=\"a\", class_=\"title\")['href']\n",
    "                job_dict['job_link'] = job_link if job_link else \"N/A\"\n",
    "                job_dict['job_date'] = datetime.now().strftime(\"%d.%m.%Y %H:%M:%S\")\n",
    "                job_dict['job_source'] = \"data-jobs.ch\"\n",
    "                # job_marker = job.find(name=\"span\", class_=\"marker\")\n",
    "                # job_dict['job_marker'] = job_marker.text.strip() if job_marker else \"N/A\"\n",
    "\n",
    "            job_list.append(job_dict)\n",
    "        except Exception as ex:\n",
    "            print(f\"Error processing jobs: {ex}\")\n",
    "\n",
    "    page_number += 1\n",
    "\n",
    "    if not soup.find(\"span\", class_=\"fa-solid fa-angles-right\") or page_number > 100:\n",
    "        continue_reading = 0\n",
    "\n",
    "print(f\"Anzahl gefundene Jobs (Total): {len(job_list)}\")\n",
    "df = pd.DataFrame(job_list)\n",
    "df.to_csv('data_jobs_ch.csv', index=False)"
   ]
  },
  {
   "cell_type": "markdown",
   "id": "c5400bd5",
   "metadata": {},
   "source": [
    "# jobs.ch"
   ]
  },
  {
   "cell_type": "code",
   "execution_count": 5,
   "id": "88ff9fcb",
   "metadata": {},
   "outputs": [
    {
     "name": "stdout",
     "output_type": "stream",
     "text": [
      "Anzahl gefundene Jobs (Total): 2560\n"
     ]
    }
   ],
   "source": [
    "for search_term in search_terms:\n",
    "    continue_reading = 1\n",
    "    page_number = 1\n",
    "    while continue_reading == 1:\n",
    "        # Make a request to the webpage\n",
    "        url = f\"https://www.jobs.ch/de/stellenangebote/?page={page_number}&term={search_term}\"\n",
    "        response = requests.get(url)\n",
    "        soup = BeautifulSoup(response.content, \"html.parser\")\n",
    "\n",
    "        jobs = soup.find_all(name=\"div\", class_=\"Div-sc-1cpunnt-0\", attrs={\"data-feat\": \"searched_jobs\"})\n",
    "\n",
    "        for job in jobs:\n",
    "            try:\n",
    "                job_dict = {}\n",
    "                job_name = job.select_one(\"article:nth-child(1) > a:nth-child(1) > div:nth-child(1) > div:nth-child(3) > span:nth-child(1)\")\n",
    "                job_dict['job_name'] = job_name.text.strip() if job_name else \"N/A\"\n",
    "                job_company = job.select_one(\"div:nth-child(5) > p:nth-child(1) > strong:nth-child(1)\")\n",
    "                job_dict['job_company'] = job_company.text.strip() if job_company else \"N/A\"\n",
    "                \n",
    "                job_location = job.select_one(\"div:nth-child(1) > p:nth-child(2)\")\n",
    "                job_location = job_location.text.strip() if job_location else \"N/A\"\n",
    "                job_location = re.sub(r'^CH-', '', job_location)\n",
    "                job_location = re.sub(r'^\\d{4}', '', job_location)\n",
    "                job_dict['job_location'] = job_location.strip()\n",
    "                \n",
    "                job_percentage = job.select_one(\"div:nth-child(4) > div:nth-child(2) > p:nth-child(2)\")\n",
    "                job_dict['job_percentage'] = job_percentage.text.strip() if job_percentage else \"N/A\"\n",
    "                job_link = \"https://www.jobs.ch\" + job.select_one(\"a:nth-child(1)\")['href']\n",
    "                job_dict['job_link'] = job_link if job_link else \"N/A\"\n",
    "                job_dict['job_date'] = datetime.now().strftime(\"%d.%m.%Y %H:%M:%S\")\n",
    "                job_dict['job_source'] = \"jobs.ch\"\n",
    "\n",
    "                job_list.append(job_dict)\n",
    "            except Exception as ex:\n",
    "                print(f\"Error processing jobs: {ex}\")\n",
    "\n",
    "        page_number += 1\n",
    "\n",
    "        if not soup.find(\"a\", attrs={\"data-cy\": \"paginator-next\"}) or page_number > 100:\n",
    "            continue_reading = 0\n",
    "\n",
    "print(f\"Anzahl gefundene Jobs (Total): {len(job_list)}\")\n",
    "df = pd.DataFrame(job_list)\n",
    "df.to_csv('jobs_ch.csv', index=False)"
   ]
  },
  {
   "cell_type": "markdown",
   "id": "da0f348d",
   "metadata": {},
   "source": [
    "# ost-job.ch"
   ]
  },
  {
   "cell_type": "code",
   "execution_count": 6,
   "id": "b5dc0f4a",
   "metadata": {},
   "outputs": [
    {
     "name": "stdout",
     "output_type": "stream",
     "text": [
      "Anzahl gefundene Jobs (Total): 2622\n"
     ]
    }
   ],
   "source": [
    "for search_term in search_terms:\n",
    "    continue_reading = 1\n",
    "    page_number = 1\n",
    "    while continue_reading == 1:\n",
    "        url = f\"https://www.ostjob.ch/job/suche-{search_term}-seite-{page_number}\"\n",
    "        response = requests.get(url)\n",
    "        soup = BeautifulSoup(response.content, \"html.parser\")\n",
    "\n",
    "        jobs = soup.find_all(name=\"div\", class_=\"vacancy-list-card__body\")\n",
    "\n",
    "        for job in jobs:\n",
    "            try:\n",
    "                job_dict = {}\n",
    "                job_name = job.find(name=\"span\", class_=\"vacancy-list-card__title\")\n",
    "                job_dict['job_name'] = job_name.text.strip() if job_name else \"N/A\"\n",
    "                job_company = job.find(name=\"li\", class_=\"vacancy-list-card__companyname\")\n",
    "                job_dict['job_company'] = job_company.text.strip() if job_company else \"N/A\"\n",
    "                \n",
    "                job_location = job.find(name=\"li\", class_=\"vacancy-list-card__location\")\n",
    "                job_location = job_location.text.strip() if job_location else \"N/A\"\n",
    "                job_location = re.sub(r'^CH-', '', job_location)\n",
    "                job_location = re.sub(r'^\\d{4}', '', job_location)\n",
    "                job_dict['job_location'] = job_location.strip()\n",
    "                \n",
    "                job_percentage = job.find(name=\"li\", class_=\"vacancy-list-card__type\")\n",
    "                job_dict['job_percentage'] = job_percentage.text.strip() if job_percentage else \"N/A\"\n",
    "                job_link = job.find(name=\"a\", class_=\"vacancy-list-card__link-content\")['href']\n",
    "                job_dict['job_link'] = \"https://www.ostjob.ch\" + job_link if job_link else \"N/A\"\n",
    "                job_dict['job_date'] = datetime.now().strftime(\"%d.%m.%Y %H:%M:%S\")\n",
    "                job_dict['job_source'] = \"ost-job.ch\"\n",
    "\n",
    "                job_list.append(job_dict)\n",
    "            except Exception as ex:\n",
    "                print(f\"Error processing jobs: {ex}\")\n",
    "\n",
    "        page_number += 1\n",
    "\n",
    "        if not soup.find(\"i\", class_=\"oj oj-arrow\", attrs={\"style\": \"\"}) or page_number > 10:\n",
    "            continue_reading = 0\n",
    "\n",
    "print(f\"Anzahl gefundene Jobs (Total): {len(job_list)}\")\n",
    "df = pd.DataFrame(job_list)\n",
    "df.to_csv('ost_jobs_ch.csv', index=False)"
   ]
  },
  {
   "cell_type": "markdown",
   "id": "6d73220c",
   "metadata": {},
   "source": [
    "# Data cleaning and -merging"
   ]
  },
  {
   "cell_type": "code",
   "execution_count": 59,
   "id": "34ccd772",
   "metadata": {
    "scrolled": true
   },
   "outputs": [],
   "source": [
    "df_new_jobs = pd.DataFrame(job_list).reset_index(drop=True)\n",
    "df_new_jobs['job_list_status'] = \"new\""
   ]
  },
  {
   "cell_type": "code",
   "execution_count": 60,
   "id": "6357dde3",
   "metadata": {},
   "outputs": [],
   "source": [
    "df_old_jobs = pd.read_excel('job_list.xlsx', sheet_name='job_list', usecols='B:H').reset_index(drop=True)\n",
    "\n",
    "df_old_jobs['job_company'] = df_old_jobs['job_company'].fillna('N/A')"
   ]
  },
  {
   "cell_type": "code",
   "execution_count": 61,
   "id": "981ccbaf",
   "metadata": {},
   "outputs": [],
   "source": [
    "df_plz_ort = pd.read_csv('gwr_plzmap.csv', delimiter=',')\n",
    "df_plz_ort = df_plz_ort.rename(columns={'plznamk': 'job_location', 'plz4': 'job_plz'})\n",
    "df_plz_ort = df_plz_ort.sort_values(by='job_plz')\n",
    "df_plz_ort = df_plz_ort.drop_duplicates(subset='job_location', keep='first')"
   ]
  },
  {
   "cell_type": "code",
   "execution_count": 62,
   "id": "5d8d058b",
   "metadata": {},
   "outputs": [],
   "source": [
    "df_new_jobs = df_new_jobs.merge(df_plz_ort[['job_location', 'job_plz']], on='job_location', how='left')\n"
   ]
  },
  {
   "cell_type": "code",
   "execution_count": 63,
   "id": "1f0b0817",
   "metadata": {},
   "outputs": [],
   "source": [
    "def convert_to_int_or_na(val):\n",
    "    if pd.isna(val):\n",
    "        return 9999\n",
    "    else:\n",
    "        return int(val)"
   ]
  },
  {
   "cell_type": "code",
   "execution_count": 64,
   "id": "ccea0704",
   "metadata": {
    "scrolled": true
   },
   "outputs": [],
   "source": [
    "df_old_jobs['job_plz'] = df_old_jobs['job_plz'].apply(convert_to_int_or_na)\n",
    "df_new_jobs['job_plz'] = df_new_jobs['job_plz'].apply(convert_to_int_or_na).astype(int)"
   ]
  },
  {
   "cell_type": "code",
   "execution_count": 65,
   "id": "986e689b",
   "metadata": {},
   "outputs": [
    {
     "data": {
      "text/plain": [
       "(2622, 9)"
      ]
     },
     "execution_count": 65,
     "metadata": {},
     "output_type": "execute_result"
    }
   ],
   "source": [
    "df_new_jobs.shape"
   ]
  },
  {
   "cell_type": "code",
   "execution_count": 66,
   "id": "d315a08a",
   "metadata": {},
   "outputs": [
    {
     "data": {
      "text/plain": [
       "job_name           object\n",
       "job_company        object\n",
       "job_location       object\n",
       "job_percentage     object\n",
       "job_link           object\n",
       "job_date           object\n",
       "job_source         object\n",
       "job_list_status    object\n",
       "job_plz             int64\n",
       "dtype: object"
      ]
     },
     "execution_count": 66,
     "metadata": {},
     "output_type": "execute_result"
    }
   ],
   "source": [
    "df_new_jobs.dtypes"
   ]
  },
  {
   "cell_type": "code",
   "execution_count": 67,
   "id": "8989e85e",
   "metadata": {},
   "outputs": [],
   "source": [
    "df_new_jobs = df_new_jobs[((((df_new_jobs['job_plz']) >= 5000) & (df_new_jobs['job_plz'] < 6300)) | (df_new_jobs['job_plz'] >= 8000))]"
   ]
  },
  {
   "cell_type": "code",
   "execution_count": 69,
   "id": "45346e79",
   "metadata": {},
   "outputs": [],
   "source": [
    "column_to_move = df_new_jobs.columns[8]\n",
    "df_new_jobs.insert(1, column_to_move, df_new_jobs.pop(column_to_move))"
   ]
  },
  {
   "cell_type": "code",
   "execution_count": 70,
   "id": "6b91d532",
   "metadata": {},
   "outputs": [],
   "source": [
    "df_merged = pd.concat([df_old_jobs, df_new_jobs]).sort_values('job_list_status', ascending=False)\n",
    "\n",
    "df_merged = df_merged.drop_duplicates(subset=['job_name', 'job_company'], keep='first')"
   ]
  },
  {
   "cell_type": "code",
   "execution_count": 71,
   "id": "b7ba62a4",
   "metadata": {
    "scrolled": true
   },
   "outputs": [
    {
     "data": {
      "text/plain": [
       "(1719, 9)"
      ]
     },
     "execution_count": 71,
     "metadata": {},
     "output_type": "execute_result"
    }
   ],
   "source": [
    "df_new_jobs.shape"
   ]
  },
  {
   "cell_type": "code",
   "execution_count": 72,
   "id": "829f155d",
   "metadata": {},
   "outputs": [
    {
     "data": {
      "text/plain": [
       "(2444, 7)"
      ]
     },
     "execution_count": 72,
     "metadata": {},
     "output_type": "execute_result"
    }
   ],
   "source": [
    "df_old_jobs.shape"
   ]
  },
  {
   "cell_type": "code",
   "execution_count": 73,
   "id": "9a274d4a",
   "metadata": {},
   "outputs": [
    {
     "data": {
      "text/plain": [
       "(2408, 9)"
      ]
     },
     "execution_count": 73,
     "metadata": {},
     "output_type": "execute_result"
    }
   ],
   "source": [
    "df_merged.shape"
   ]
  },
  {
   "cell_type": "code",
   "execution_count": 74,
   "id": "aecf01be",
   "metadata": {
    "scrolled": true
   },
   "outputs": [],
   "source": [
    "df_merged_new = df_merged[df_merged['job_list_status'] == 'new']"
   ]
  },
  {
   "cell_type": "code",
   "execution_count": 75,
   "id": "9a36430c",
   "metadata": {
    "scrolled": true
   },
   "outputs": [
    {
     "data": {
      "text/plain": [
       "(30, 9)"
      ]
     },
     "execution_count": 75,
     "metadata": {},
     "output_type": "execute_result"
    }
   ],
   "source": [
    "df_merged_new.shape"
   ]
  },
  {
   "cell_type": "markdown",
   "id": "128a95d6",
   "metadata": {},
   "source": [
    "# save complete list to xlsx-files"
   ]
  },
  {
   "cell_type": "code",
   "execution_count": 76,
   "id": "79aa28c5",
   "metadata": {},
   "outputs": [
    {
     "data": {
      "text/plain": [
       "'./backup/job_list_24.08.2023 20_55_36.xlsx'"
      ]
     },
     "execution_count": 76,
     "metadata": {},
     "output_type": "execute_result"
    }
   ],
   "source": [
    "# BACKUP !!!\n",
    "\n",
    "source_old_jobs = 'job_list.xlsx'\n",
    "destination_old_jobs = f'./backup/job_list_{datetime.now().strftime(\"%d.%m.%Y %H_%M_%S\")}.xlsx'\n",
    "\n",
    "shutil.copy2(source_old_jobs, destination_old_jobs)\n"
   ]
  },
  {
   "cell_type": "code",
   "execution_count": 77,
   "id": "d50320f2",
   "metadata": {
    "scrolled": true
   },
   "outputs": [],
   "source": [
    "df_merged_new.to_excel('new_jobs.xlsx', sheet_name='new_jobs')"
   ]
  },
  {
   "cell_type": "code",
   "execution_count": null,
   "id": "9c8a4151",
   "metadata": {},
   "outputs": [],
   "source": []
  }
 ],
 "metadata": {
  "kernelspec": {
   "display_name": "Python 3 (ipykernel)",
   "language": "python",
   "name": "python3"
  },
  "language_info": {
   "codemirror_mode": {
    "name": "ipython",
    "version": 3
   },
   "file_extension": ".py",
   "mimetype": "text/x-python",
   "name": "python",
   "nbconvert_exporter": "python",
   "pygments_lexer": "ipython3",
   "version": "3.11.3"
  }
 },
 "nbformat": 4,
 "nbformat_minor": 5
}
